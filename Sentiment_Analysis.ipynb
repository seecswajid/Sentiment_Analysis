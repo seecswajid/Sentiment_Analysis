{
 "cells": [
  {
   "cell_type": "markdown",
   "id": "823d1bf2",
   "metadata": {},
   "source": [
    "# Text Classification\n",
    "The comma separated values (csv) file is used to perform sentiment analysis on text data of reviews. The scores of 1-5 were given in the csv file. We have considered 3 as neutral, less than 3 as negative and greater than 3 as positive. "
   ]
  },
  {
   "cell_type": "markdown",
   "id": "09f845ea",
   "metadata": {},
   "source": [
    "**Note    \n",
    "Their are few things which can be improved but due to timing constraint, I am unable to do them. However, I am mentionening those possible tasks for improvement**  \n",
    "1) Data Cleaning - Removal of Special characters etc  \n",
    "2) Data augmentation - To reduce imbalance in the dataset  \n",
    "3) K-fold cross validation to get the better model  \n",
    "4) Try different architectures and select the model  \n",
    "**This code was initially tested on some part of dataset. On complete dataset, the label assignment part is taking too long to execute. I am leaving this part for now. The results available at the end of notebook were calculated on less data.**"
   ]
  },
  {
   "cell_type": "code",
   "execution_count": 1,
   "id": "a2db443c",
   "metadata": {},
   "outputs": [],
   "source": [
    "import pandas as pd"
   ]
  },
  {
   "cell_type": "code",
   "execution_count": 2,
   "id": "3809f0f1-e2eb-4df0-a14f-86813b2dd552",
   "metadata": {},
   "outputs": [],
   "source": [
    "col_list = ['ProfileName','Score','Summary']\n",
    "csv_file = pd.read_csv('Reviews.csv',usecols=col_list)"
   ]
  },
  {
   "cell_type": "code",
   "execution_count": 3,
   "id": "bc155920-8bba-471a-80ed-bfc490437e3b",
   "metadata": {},
   "outputs": [
    {
     "data": {
      "text/html": [
       "<div>\n",
       "<style scoped>\n",
       "    .dataframe tbody tr th:only-of-type {\n",
       "        vertical-align: middle;\n",
       "    }\n",
       "\n",
       "    .dataframe tbody tr th {\n",
       "        vertical-align: top;\n",
       "    }\n",
       "\n",
       "    .dataframe thead th {\n",
       "        text-align: right;\n",
       "    }\n",
       "</style>\n",
       "<table border=\"1\" class=\"dataframe\">\n",
       "  <thead>\n",
       "    <tr style=\"text-align: right;\">\n",
       "      <th></th>\n",
       "      <th>ProfileName</th>\n",
       "      <th>Score</th>\n",
       "      <th>Summary</th>\n",
       "    </tr>\n",
       "  </thead>\n",
       "  <tbody>\n",
       "    <tr>\n",
       "      <th>0</th>\n",
       "      <td>delmartian</td>\n",
       "      <td>5</td>\n",
       "      <td>Good Quality Dog Food</td>\n",
       "    </tr>\n",
       "    <tr>\n",
       "      <th>1</th>\n",
       "      <td>dll pa</td>\n",
       "      <td>1</td>\n",
       "      <td>Not as Advertised</td>\n",
       "    </tr>\n",
       "    <tr>\n",
       "      <th>2</th>\n",
       "      <td>Natalia Corres \"Natalia Corres\"</td>\n",
       "      <td>4</td>\n",
       "      <td>\"Delight\" says it all</td>\n",
       "    </tr>\n",
       "    <tr>\n",
       "      <th>3</th>\n",
       "      <td>Karl</td>\n",
       "      <td>2</td>\n",
       "      <td>Cough Medicine</td>\n",
       "    </tr>\n",
       "    <tr>\n",
       "      <th>4</th>\n",
       "      <td>Michael D. Bigham \"M. Wassir\"</td>\n",
       "      <td>5</td>\n",
       "      <td>Great taffy</td>\n",
       "    </tr>\n",
       "  </tbody>\n",
       "</table>\n",
       "</div>"
      ],
      "text/plain": [
       "                       ProfileName  Score                Summary\n",
       "0                       delmartian      5  Good Quality Dog Food\n",
       "1                           dll pa      1      Not as Advertised\n",
       "2  Natalia Corres \"Natalia Corres\"      4  \"Delight\" says it all\n",
       "3                             Karl      2         Cough Medicine\n",
       "4    Michael D. Bigham \"M. Wassir\"      5            Great taffy"
      ]
     },
     "execution_count": 3,
     "metadata": {},
     "output_type": "execute_result"
    }
   ],
   "source": [
    "csv_file.head()"
   ]
  },
  {
   "cell_type": "code",
   "execution_count": 4,
   "id": "29a2aecd-a240-4f23-8ab5-c5a949f820b3",
   "metadata": {},
   "outputs": [
    {
     "data": {
      "text/plain": [
       "ProfileName    23023\n",
       "Score          23023\n",
       "Summary        23023\n",
       "dtype: int64"
      ]
     },
     "execution_count": 4,
     "metadata": {},
     "output_type": "execute_result"
    }
   ],
   "source": [
    "csv_file.count()"
   ]
  },
  {
   "cell_type": "markdown",
   "id": "66bc559f",
   "metadata": {},
   "source": [
    "**Data Cleaning**  \n",
    "Some of the Score values were non interger so we have removed those records from csv file."
   ]
  },
  {
   "cell_type": "code",
   "execution_count": 5,
   "id": "f9ccecc4-5c67-4690-b01a-c8c9fda7efaf",
   "metadata": {},
   "outputs": [],
   "source": [
    "index = []\n",
    "for i, row in csv_file.iterrows():\n",
    "    if not str(row['Score']).isdigit():\n",
    "        index.append(i)\n",
    "for ind in index:\n",
    "    csv_file = csv_file.drop(ind)"
   ]
  },
  {
   "cell_type": "markdown",
   "id": "c89314f1",
   "metadata": {},
   "source": [
    "**Label Assignment**"
   ]
  },
  {
   "cell_type": "code",
   "execution_count": 6,
   "id": "ac480123-c80f-4407-b1bc-505ae8780c55",
   "metadata": {},
   "outputs": [],
   "source": [
    "for idx, val in enumerate(csv_file.itertuples()):\n",
    "    if int(csv_file.Score[idx]) > 3:\n",
    "        csv_file.loc[idx, 'Label'] = 'Positive'\n",
    "    elif int(csv_file.Score[idx]) < 3:\n",
    "        csv_file.loc[idx, 'Label'] = 'Negative'\n",
    "    else:\n",
    "        csv_file.loc[idx, 'Label'] = 'Neutral'\n",
    "    \n"
   ]
  },
  {
   "cell_type": "code",
   "execution_count": 7,
   "id": "f35cb574-5ad3-424b-90b4-2a0e7dc17096",
   "metadata": {},
   "outputs": [
    {
     "data": {
      "text/html": [
       "<div>\n",
       "<style scoped>\n",
       "    .dataframe tbody tr th:only-of-type {\n",
       "        vertical-align: middle;\n",
       "    }\n",
       "\n",
       "    .dataframe tbody tr th {\n",
       "        vertical-align: top;\n",
       "    }\n",
       "\n",
       "    .dataframe thead th {\n",
       "        text-align: right;\n",
       "    }\n",
       "</style>\n",
       "<table border=\"1\" class=\"dataframe\">\n",
       "  <thead>\n",
       "    <tr style=\"text-align: right;\">\n",
       "      <th></th>\n",
       "      <th>ProfileName</th>\n",
       "      <th>Score</th>\n",
       "      <th>Summary</th>\n",
       "      <th>Label</th>\n",
       "    </tr>\n",
       "  </thead>\n",
       "  <tbody>\n",
       "    <tr>\n",
       "      <th>0</th>\n",
       "      <td>delmartian</td>\n",
       "      <td>5</td>\n",
       "      <td>Good Quality Dog Food</td>\n",
       "      <td>Positive</td>\n",
       "    </tr>\n",
       "    <tr>\n",
       "      <th>1</th>\n",
       "      <td>dll pa</td>\n",
       "      <td>1</td>\n",
       "      <td>Not as Advertised</td>\n",
       "      <td>Negative</td>\n",
       "    </tr>\n",
       "    <tr>\n",
       "      <th>2</th>\n",
       "      <td>Natalia Corres \"Natalia Corres\"</td>\n",
       "      <td>4</td>\n",
       "      <td>\"Delight\" says it all</td>\n",
       "      <td>Positive</td>\n",
       "    </tr>\n",
       "    <tr>\n",
       "      <th>3</th>\n",
       "      <td>Karl</td>\n",
       "      <td>2</td>\n",
       "      <td>Cough Medicine</td>\n",
       "      <td>Negative</td>\n",
       "    </tr>\n",
       "    <tr>\n",
       "      <th>4</th>\n",
       "      <td>Michael D. Bigham \"M. Wassir\"</td>\n",
       "      <td>5</td>\n",
       "      <td>Great taffy</td>\n",
       "      <td>Positive</td>\n",
       "    </tr>\n",
       "  </tbody>\n",
       "</table>\n",
       "</div>"
      ],
      "text/plain": [
       "                       ProfileName  Score                Summary     Label\n",
       "0                       delmartian      5  Good Quality Dog Food  Positive\n",
       "1                           dll pa      1      Not as Advertised  Negative\n",
       "2  Natalia Corres \"Natalia Corres\"      4  \"Delight\" says it all  Positive\n",
       "3                             Karl      2         Cough Medicine  Negative\n",
       "4    Michael D. Bigham \"M. Wassir\"      5            Great taffy  Positive"
      ]
     },
     "execution_count": 7,
     "metadata": {},
     "output_type": "execute_result"
    }
   ],
   "source": [
    "csv_file.head()"
   ]
  },
  {
   "cell_type": "code",
   "execution_count": 8,
   "id": "7cb9e1d6-9021-45c2-a909-f12d18bd5815",
   "metadata": {},
   "outputs": [
    {
     "data": {
      "text/plain": [
       "ProfileName    23023\n",
       "Score          23023\n",
       "Summary        23023\n",
       "Label          23023\n",
       "dtype: int64"
      ]
     },
     "execution_count": 8,
     "metadata": {},
     "output_type": "execute_result"
    }
   ],
   "source": [
    "csv_file.count()"
   ]
  },
  {
   "cell_type": "code",
   "execution_count": 9,
   "id": "2ba5337c-e51d-4f70-89de-bc5ce65c165b",
   "metadata": {},
   "outputs": [],
   "source": [
    "import seaborn as sns"
   ]
  },
  {
   "cell_type": "code",
   "execution_count": 10,
   "id": "aeb04444-cee3-456a-8050-b7bfe9da681e",
   "metadata": {},
   "outputs": [
    {
     "data": {
      "text/plain": [
       "<AxesSubplot:xlabel='Label', ylabel='count'>"
      ]
     },
     "execution_count": 10,
     "metadata": {},
     "output_type": "execute_result"
    },
    {
     "data": {
      "image/png": "[encoded data removed]",
      "text/plain": [
       "<Figure size 432x288 with 1 Axes>"
      ]
     },
     "metadata": {
      "needs_background": "light"
     },
     "output_type": "display_data"
    }
   ],
   "source": [
    "# Histogram\n",
    "sns.countplot(x='Label',data=csv_file)"
   ]
  },
  {
   "cell_type": "code",
   "execution_count": 11,
   "id": "7e394519-4f90-4369-be5c-1f623832eec4",
   "metadata": {},
   "outputs": [
    {
     "data": {
      "text/plain": [
       "0                               [Good, Quality, Dog, Food]\n",
       "1                                    [Not, as, Advertised]\n",
       "2                           [\", Delight, \", says, it, all]\n",
       "3                                        [Cough, Medicine]\n",
       "4                                           [Great, taffy]\n",
       "                               ...                        \n",
       "23018                     [Surpassed, my, expectations, .]\n",
       "23019                           [Strong, and, Not, Bitter]\n",
       "23020                              [Try, a, cup, or, more]\n",
       "23021               [Mellow, Rich, French, Roast, +, +, +]\n",
       "23022    [Can't, Tell, The, Difference, From, Regular, ...\n",
       "Name: Summary, Length: 23023, dtype: object"
      ]
     },
     "execution_count": 11,
     "metadata": {},
     "output_type": "execute_result"
    }
   ],
   "source": [
    "# Function which directly tokenize the tweet data\n",
    "from nltk.tokenize import TweetTokenizer\n",
    "\n",
    "tt = TweetTokenizer()\n",
    "csv_file['Summary'].apply(tt.tokenize)"
   ]
  },
  {
   "cell_type": "code",
   "execution_count": 12,
   "id": "f9be1905-6e7f-4442-85d0-84fca5ff0167",
   "metadata": {},
   "outputs": [],
   "source": [
    "from nltk.stem import PorterStemmer\n",
    "from nltk.tokenize import sent_tokenize, word_tokenize\n",
    "\n",
    "ps = PorterStemmer()"
   ]
  },
  {
   "cell_type": "code",
   "execution_count": 13,
   "id": "178f2c2d-fc9f-4885-95b9-5dff9dc46604",
   "metadata": {},
   "outputs": [],
   "source": [
    "def tokenize(text):\n",
    "    return word_tokenize(text)\n",
    "\n",
    "def stemming(words):\n",
    "    stem_words = []\n",
    "    for w in words:\n",
    "        w = ps.stem(w)\n",
    "        stem_words.append(w)\n",
    "    \n",
    "    return stem_words"
   ]
  },
  {
   "cell_type": "code",
   "execution_count": 14,
   "id": "c3cbb5fb-8b5e-4d4c-94b3-9905c566b2b5",
   "metadata": {},
   "outputs": [],
   "source": [
    "# apply tokenize function\n",
    "csv_file['text'] = csv_file['Summary'].apply(tokenize)"
   ]
  },
  {
   "cell_type": "code",
   "execution_count": 15,
   "id": "967dafbe-d5cd-45fa-a97b-f25cc08568b2",
   "metadata": {},
   "outputs": [
    {
     "data": {
      "text/html": [
       "<div>\n",
       "<style scoped>\n",
       "    .dataframe tbody tr th:only-of-type {\n",
       "        vertical-align: middle;\n",
       "    }\n",
       "\n",
       "    .dataframe tbody tr th {\n",
       "        vertical-align: top;\n",
       "    }\n",
       "\n",
       "    .dataframe thead th {\n",
       "        text-align: right;\n",
       "    }\n",
       "</style>\n",
       "<table border=\"1\" class=\"dataframe\">\n",
       "  <thead>\n",
       "    <tr style=\"text-align: right;\">\n",
       "      <th></th>\n",
       "      <th>ProfileName</th>\n",
       "      <th>Score</th>\n",
       "      <th>Summary</th>\n",
       "      <th>Label</th>\n",
       "      <th>text</th>\n",
       "    </tr>\n",
       "  </thead>\n",
       "  <tbody>\n",
       "    <tr>\n",
       "      <th>0</th>\n",
       "      <td>delmartian</td>\n",
       "      <td>5</td>\n",
       "      <td>Good Quality Dog Food</td>\n",
       "      <td>Positive</td>\n",
       "      <td>[Good, Quality, Dog, Food]</td>\n",
       "    </tr>\n",
       "    <tr>\n",
       "      <th>1</th>\n",
       "      <td>dll pa</td>\n",
       "      <td>1</td>\n",
       "      <td>Not as Advertised</td>\n",
       "      <td>Negative</td>\n",
       "      <td>[Not, as, Advertised]</td>\n",
       "    </tr>\n",
       "    <tr>\n",
       "      <th>2</th>\n",
       "      <td>Natalia Corres \"Natalia Corres\"</td>\n",
       "      <td>4</td>\n",
       "      <td>\"Delight\" says it all</td>\n",
       "      <td>Positive</td>\n",
       "      <td>[``, Delight, '', says, it, all]</td>\n",
       "    </tr>\n",
       "    <tr>\n",
       "      <th>3</th>\n",
       "      <td>Karl</td>\n",
       "      <td>2</td>\n",
       "      <td>Cough Medicine</td>\n",
       "      <td>Negative</td>\n",
       "      <td>[Cough, Medicine]</td>\n",
       "    </tr>\n",
       "    <tr>\n",
       "      <th>4</th>\n",
       "      <td>Michael D. Bigham \"M. Wassir\"</td>\n",
       "      <td>5</td>\n",
       "      <td>Great taffy</td>\n",
       "      <td>Positive</td>\n",
       "      <td>[Great, taffy]</td>\n",
       "    </tr>\n",
       "  </tbody>\n",
       "</table>\n",
       "</div>"
      ],
      "text/plain": [
       "                       ProfileName  Score                Summary     Label  \\\n",
       "0                       delmartian      5  Good Quality Dog Food  Positive   \n",
       "1                           dll pa      1      Not as Advertised  Negative   \n",
       "2  Natalia Corres \"Natalia Corres\"      4  \"Delight\" says it all  Positive   \n",
       "3                             Karl      2         Cough Medicine  Negative   \n",
       "4    Michael D. Bigham \"M. Wassir\"      5            Great taffy  Positive   \n",
       "\n",
       "                               text  \n",
       "0        [Good, Quality, Dog, Food]  \n",
       "1             [Not, as, Advertised]  \n",
       "2  [``, Delight, '', says, it, all]  \n",
       "3                 [Cough, Medicine]  \n",
       "4                    [Great, taffy]  "
      ]
     },
     "execution_count": 15,
     "metadata": {},
     "output_type": "execute_result"
    }
   ],
   "source": [
    "csv_file.head()"
   ]
  },
  {
   "cell_type": "code",
   "execution_count": 16,
   "id": "506cc014-2797-441f-ba00-119fa1dba8a0",
   "metadata": {},
   "outputs": [
    {
     "data": {
      "text/plain": [
       "[('!', 7785), (',', 2566), ('Great', 2052), ('.', 1706), ('for', 1613)]"
      ]
     },
     "execution_count": 16,
     "metadata": {},
     "output_type": "execute_result"
    }
   ],
   "source": [
    "from collections import Counter\n",
    "words = Counter()\n",
    "for idx in csv_file.index:\n",
    "    words.update(csv_file.loc[idx, \"text\"])\n",
    "\n",
    "words.most_common(5)"
   ]
  },
  {
   "cell_type": "code",
   "execution_count": 17,
   "id": "38d4ee49-cca0-44fb-82b2-7b87feb5c976",
   "metadata": {},
   "outputs": [
    {
     "name": "stderr",
     "output_type": "stream",
     "text": [
      "[nltk_data] Downloading package stopwords to /home/abdul/nltk_data...\n",
      "[nltk_data]   Package stopwords is already up-to-date!\n"
     ]
    }
   ],
   "source": [
    "import nltk\n",
    "nltk.download('stopwords')\n",
    "stopwords=nltk.corpus.stopwords.words(\"english\")"
   ]
  },
  {
   "cell_type": "code",
   "execution_count": 18,
   "id": "c8120ca3-7d1a-44a6-a89d-d60f16adba7f",
   "metadata": {},
   "outputs": [
    {
     "data": {
      "text/plain": [
       "[('!', 7785), (',', 2566), ('Great', 2052), ('.', 1706), ('good', 1086)]"
      ]
     },
     "execution_count": 18,
     "metadata": {},
     "output_type": "execute_result"
    }
   ],
   "source": [
    "whitelist = [\"n't\", \"not\"]\n",
    "for idx, stop_word in enumerate(stopwords):\n",
    "    if stop_word not in whitelist:\n",
    "        del words[stop_word]\n",
    "words.most_common(5)"
   ]
  },
  {
   "cell_type": "code",
   "execution_count": 19,
   "id": "efc7769f-fca6-4d1e-9d9a-0b41cb25725d",
   "metadata": {},
   "outputs": [],
   "source": [
    "def word_list(processed_data):\n",
    "    #print(processed_data)\n",
    "    min_occurrences=3 \n",
    "    max_occurences=500 \n",
    "    stopwords=nltk.corpus.stopwords.words(\"english\")\n",
    "    whitelist = [\"n't\",\"not\"]\n",
    "    wordlist = []\n",
    "    \n",
    "    whitelist = whitelist if whitelist is None else whitelist\n",
    "    #print(whitelist)\n",
    "    \n",
    "    words = Counter()\n",
    "    for idx in processed_data.index:\n",
    "        words.update(processed_data.loc[idx, \"text\"])\n",
    "\n",
    "    for idx, stop_word in enumerate(stopwords):\n",
    "        if stop_word not in whitelist:\n",
    "            del words[stop_word]\n",
    "    #print(words)\n",
    "\n",
    "    word_df = pd.DataFrame(data={\"word\": [k for k, v in words.most_common() if min_occurrences < v < max_occurences],\n",
    "                                 \"occurrences\": [v for k, v in words.most_common() if min_occurrences < v < max_occurences]},\n",
    "                           columns=[\"word\", \"occurrences\"])\n",
    "    #print(word_df)\n",
    "    word_df.to_csv(\"wordlist.csv\", index_label=\"idx\")\n",
    "    wordlist = [k for k, v in words.most_common() if min_occurrences < v < max_occurences]\n",
    "    #print(wordlist)"
   ]
  },
  {
   "cell_type": "code",
   "execution_count": 20,
   "id": "24a7e0a4-9d81-428d-b57b-ca6e23dac687",
   "metadata": {},
   "outputs": [],
   "source": [
    "word_list(csv_file)"
   ]
  },
  {
   "cell_type": "code",
   "execution_count": 21,
   "id": "188bb2b4-34da-4518-b9fc-fc03ba6f5fce",
   "metadata": {},
   "outputs": [],
   "source": [
    "words = pd.read_csv(\"wordlist.csv\")"
   ]
  },
  {
   "cell_type": "code",
   "execution_count": 22,
   "id": "1b45307d-ff91-4955-be59-63c2b731a0ca",
   "metadata": {},
   "outputs": [],
   "source": [
    "import os"
   ]
  },
  {
   "cell_type": "code",
   "execution_count": 23,
   "id": "121cdf4f-3eb5-4fab-825d-9f0b92a741ca",
   "metadata": {},
   "outputs": [],
   "source": [
    "wordlist= []\n",
    "if os.path.isfile(\"wordlist.csv\"):\n",
    "    word_df = pd.read_csv(\"wordlist.csv\")\n",
    "    word_df = word_df[word_df[\"occurrences\"] > 3]\n",
    "    wordlist = list(word_df.loc[:, \"word\"])\n",
    "\n",
    "label_column = [\"label\"]\n",
    "columns = label_column + list(map(lambda w: w + \"_bow\",wordlist))\n",
    "labels = []\n",
    "rows = []\n",
    "for idx in csv_file.index:\n",
    "    current_row = []\n",
    "    \n",
    "    # add label\n",
    "    current_label = csv_file.loc[idx, \"Label\"]\n",
    "    labels.append(current_label)\n",
    "    current_row.append(current_label)\n",
    "\n",
    "    # add bag-of-words\n",
    "    tokens = set(csv_file.loc[idx, \"text\"])\n",
    "    for _, word in enumerate(wordlist):\n",
    "        current_row.append(1 if word in tokens else 0)\n",
    "\n",
    "    rows.append(current_row)\n",
    "\n",
    "data_model = pd.DataFrame(rows, columns=columns)\n",
    "data_labels = pd.Series(labels)\n",
    "\n",
    "\n",
    "bow = data_model"
   ]
  },
  {
   "cell_type": "code",
   "execution_count": 24,
   "id": "1c399020-26a9-4aea-8ab3-eaa838bace29",
   "metadata": {},
   "outputs": [
    {
     "data": {
      "text/html": [
       "<div>\n",
       "<style scoped>\n",
       "    .dataframe tbody tr th:only-of-type {\n",
       "        vertical-align: middle;\n",
       "    }\n",
       "\n",
       "    .dataframe tbody tr th {\n",
       "        vertical-align: top;\n",
       "    }\n",
       "\n",
       "    .dataframe thead th {\n",
       "        text-align: right;\n",
       "    }\n",
       "</style>\n",
       "<table border=\"1\" class=\"dataframe\">\n",
       "  <thead>\n",
       "    <tr style=\"text-align: right;\">\n",
       "      <th></th>\n",
       "      <th>label</th>\n",
       "      <th>taste_bow</th>\n",
       "      <th>dog_bow</th>\n",
       "      <th>n't_bow</th>\n",
       "      <th>Love_bow</th>\n",
       "      <th>best_bow</th>\n",
       "      <th>Delicious_bow</th>\n",
       "      <th>-_bow</th>\n",
       "      <th>like_bow</th>\n",
       "      <th>Excellent_bow</th>\n",
       "      <th>...</th>\n",
       "      <th>Need_bow</th>\n",
       "      <th>pouches_bow</th>\n",
       "      <th>Feast_bow</th>\n",
       "      <th>Tierra_bow</th>\n",
       "      <th>Hours_bow</th>\n",
       "      <th>Tug-a-Jug_bow</th>\n",
       "      <th>toys_bow</th>\n",
       "      <th>jug_bow</th>\n",
       "      <th>Rope_bow</th>\n",
       "      <th>interest_bow</th>\n",
       "    </tr>\n",
       "  </thead>\n",
       "  <tbody>\n",
       "    <tr>\n",
       "      <th>0</th>\n",
       "      <td>Positive</td>\n",
       "      <td>0</td>\n",
       "      <td>0</td>\n",
       "      <td>0</td>\n",
       "      <td>0</td>\n",
       "      <td>0</td>\n",
       "      <td>0</td>\n",
       "      <td>0</td>\n",
       "      <td>0</td>\n",
       "      <td>0</td>\n",
       "      <td>...</td>\n",
       "      <td>0</td>\n",
       "      <td>0</td>\n",
       "      <td>0</td>\n",
       "      <td>0</td>\n",
       "      <td>0</td>\n",
       "      <td>0</td>\n",
       "      <td>0</td>\n",
       "      <td>0</td>\n",
       "      <td>0</td>\n",
       "      <td>0</td>\n",
       "    </tr>\n",
       "    <tr>\n",
       "      <th>1</th>\n",
       "      <td>Negative</td>\n",
       "      <td>0</td>\n",
       "      <td>0</td>\n",
       "      <td>0</td>\n",
       "      <td>0</td>\n",
       "      <td>0</td>\n",
       "      <td>0</td>\n",
       "      <td>0</td>\n",
       "      <td>0</td>\n",
       "      <td>0</td>\n",
       "      <td>...</td>\n",
       "      <td>0</td>\n",
       "      <td>0</td>\n",
       "      <td>0</td>\n",
       "      <td>0</td>\n",
       "      <td>0</td>\n",
       "      <td>0</td>\n",
       "      <td>0</td>\n",
       "      <td>0</td>\n",
       "      <td>0</td>\n",
       "      <td>0</td>\n",
       "    </tr>\n",
       "    <tr>\n",
       "      <th>2</th>\n",
       "      <td>Positive</td>\n",
       "      <td>0</td>\n",
       "      <td>0</td>\n",
       "      <td>0</td>\n",
       "      <td>0</td>\n",
       "      <td>0</td>\n",
       "      <td>0</td>\n",
       "      <td>0</td>\n",
       "      <td>0</td>\n",
       "      <td>0</td>\n",
       "      <td>...</td>\n",
       "      <td>0</td>\n",
       "      <td>0</td>\n",
       "      <td>0</td>\n",
       "      <td>0</td>\n",
       "      <td>0</td>\n",
       "      <td>0</td>\n",
       "      <td>0</td>\n",
       "      <td>0</td>\n",
       "      <td>0</td>\n",
       "      <td>0</td>\n",
       "    </tr>\n",
       "    <tr>\n",
       "      <th>3</th>\n",
       "      <td>Negative</td>\n",
       "      <td>0</td>\n",
       "      <td>0</td>\n",
       "      <td>0</td>\n",
       "      <td>0</td>\n",
       "      <td>0</td>\n",
       "      <td>0</td>\n",
       "      <td>0</td>\n",
       "      <td>0</td>\n",
       "      <td>0</td>\n",
       "      <td>...</td>\n",
       "      <td>0</td>\n",
       "      <td>0</td>\n",
       "      <td>0</td>\n",
       "      <td>0</td>\n",
       "      <td>0</td>\n",
       "      <td>0</td>\n",
       "      <td>0</td>\n",
       "      <td>0</td>\n",
       "      <td>0</td>\n",
       "      <td>0</td>\n",
       "    </tr>\n",
       "    <tr>\n",
       "      <th>4</th>\n",
       "      <td>Positive</td>\n",
       "      <td>0</td>\n",
       "      <td>0</td>\n",
       "      <td>0</td>\n",
       "      <td>0</td>\n",
       "      <td>0</td>\n",
       "      <td>0</td>\n",
       "      <td>0</td>\n",
       "      <td>0</td>\n",
       "      <td>0</td>\n",
       "      <td>...</td>\n",
       "      <td>0</td>\n",
       "      <td>0</td>\n",
       "      <td>0</td>\n",
       "      <td>0</td>\n",
       "      <td>0</td>\n",
       "      <td>0</td>\n",
       "      <td>0</td>\n",
       "      <td>0</td>\n",
       "      <td>0</td>\n",
       "      <td>0</td>\n",
       "    </tr>\n",
       "  </tbody>\n",
       "</table>\n",
       "<p>5 rows × 2676 columns</p>\n",
       "</div>"
      ],
      "text/plain": [
       "      label  taste_bow  dog_bow  n't_bow  Love_bow  best_bow  Delicious_bow  \\\n",
       "0  Positive          0        0        0         0         0              0   \n",
       "1  Negative          0        0        0         0         0              0   \n",
       "2  Positive          0        0        0         0         0              0   \n",
       "3  Negative          0        0        0         0         0              0   \n",
       "4  Positive          0        0        0         0         0              0   \n",
       "\n",
       "   -_bow  like_bow  Excellent_bow  ...  Need_bow  pouches_bow  Feast_bow  \\\n",
       "0      0         0              0  ...         0            0          0   \n",
       "1      0         0              0  ...         0            0          0   \n",
       "2      0         0              0  ...         0            0          0   \n",
       "3      0         0              0  ...         0            0          0   \n",
       "4      0         0              0  ...         0            0          0   \n",
       "\n",
       "   Tierra_bow  Hours_bow  Tug-a-Jug_bow  toys_bow  jug_bow  Rope_bow  \\\n",
       "0           0          0              0         0        0         0   \n",
       "1           0          0              0         0        0         0   \n",
       "2           0          0              0         0        0         0   \n",
       "3           0          0              0         0        0         0   \n",
       "4           0          0              0         0        0         0   \n",
       "\n",
       "   interest_bow  \n",
       "0             0  \n",
       "1             0  \n",
       "2             0  \n",
       "3             0  \n",
       "4             0  \n",
       "\n",
       "[5 rows x 2676 columns]"
      ]
     },
     "execution_count": 24,
     "metadata": {},
     "output_type": "execute_result"
    }
   ],
   "source": [
    "data_model.head()"
   ]
  },
  {
   "cell_type": "code",
   "execution_count": 25,
   "id": "8d869230-d56f-474d-9ddb-7e6e3941505b",
   "metadata": {},
   "outputs": [],
   "source": [
    "def test_classifier(X_train, y_train, X_test, y_test, classifier):\n",
    "    log(\"\")\n",
    "    log(\"---------------------------------------------------------\")\n",
    "    log(\"Testing \" + str(type(classifier).__name__))\n",
    "    now = time()\n",
    "    list_of_labels = sorted(list(set(y_train)))\n",
    "    model = classifier.fit(X_train, y_train)\n",
    "    log(\"Learing time {0}s\".format(time() - now))\n",
    "    now = time()\n",
    "    predictions = model.predict(X_test)\n",
    "    log(\"Predicting time {0}s\".format(time() - now))\n",
    "\n",
    "    # Calculate Accuracy, Precision, recall\n",
    "    \n",
    "    precision = precision_score(y_test, predictions, average=None, pos_label=None, labels=list_of_labels)\n",
    "    recall = recall_score(y_test, predictions, average=None, pos_label=None, labels=list_of_labels)\n",
    "    accuracy = accuracy_score(y_test, predictions)\n",
    "    f1 = f1_score(y_test, predictions, average=None, pos_label=None, labels=list_of_labels)\n",
    "    \n",
    "    log(\"=================== Results ===================\")\n",
    "    log(\"            Negative     Neutral     Positive\")\n",
    "    log(\"F1       \" + str(f1))\n",
    "    log(\"Precision\" + str(precision))\n",
    "    log(\"Recall   \" + str(recall))\n",
    "    log(\"Accuracy \" + str(accuracy))\n",
    "    log(\"===============================================\")\n",
    "\n",
    "    return precision, recall, accuracy, f1\n",
    "\n",
    "def log(x):\n",
    "    #can be used to write to log file\n",
    "    print(x)"
   ]
  },
  {
   "cell_type": "code",
   "execution_count": 26,
   "id": "e31a8c68-69d1-472b-b9f7-ff8d32613ada",
   "metadata": {},
   "outputs": [
    {
     "name": "stdout",
     "output_type": "stream",
     "text": [
      "\n",
      "---------------------------------------------------------\n",
      "Testing BernoulliNB\n",
      "Learing time 0.48178577423095703s\n",
      "Predicting time 0.23952317237854004s\n",
      "=================== Results ===================\n",
      "            Negative     Neutral     Positive\n",
      "F1       [0.4960981  0.24099379 0.88773963]\n",
      "Precision[0.60298103 0.38955823 0.84087838]\n",
      "Recall   [0.42140152 0.17446043 0.9401322 ]\n",
      "Accuracy 0.7991892283190966\n",
      "===============================================\n"
     ]
    }
   ],
   "source": [
    "from sklearn.naive_bayes import BernoulliNB\n",
    "from sklearn.model_selection import train_test_split\n",
    "from time import time\n",
    "from sklearn.metrics import f1_score, precision_score, recall_score, accuracy_score\n",
    "X_train, X_test, y_train, y_test = train_test_split(bow.iloc[:, 1:], bow['label'], test_size=0.3)\n",
    "precision, recall, accuracy, f1 = test_classifier(X_train, y_train, X_test, y_test, BernoulliNB())"
   ]
  },
  {
   "cell_type": "code",
   "execution_count": null,
   "id": "8e5bffe0-1a5c-473e-b3a9-8dbcef9a29e7",
   "metadata": {},
   "outputs": [],
   "source": []
  }
 ],
 "metadata": {
  "kernelspec": {
   "display_name": "Python 3",
   "language": "python",
   "name": "python3"
  },
  "language_info": {
   "codemirror_mode": {
    "name": "ipython",
    "version": 3
   },
   "file_extension": ".py",
   "mimetype": "text/x-python",
   "name": "python",
   "nbconvert_exporter": "python",
   "pygments_lexer": "ipython3",
   "version": "3.8.8"
  }
 },
 "nbformat": 4,
 "nbformat_minor": 5
}
